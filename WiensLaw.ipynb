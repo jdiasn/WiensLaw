{
 "cells": [
  {
   "cell_type": "code",
   "execution_count": 1,
   "metadata": {
    "collapsed": true
   },
   "outputs": [],
   "source": [
    "%matplotlib inline"
   ]
  },
  {
   "cell_type": "code",
   "execution_count": 3,
   "metadata": {
    "collapsed": true
   },
   "outputs": [],
   "source": [
    "import matplotlib.font_manager as fm\n",
    "import matplotlib.pyplot as plt\n",
    "import numpy as np\n"
   ]
  },
  {
   "cell_type": "markdown",
   "metadata": {},
   "source": [
    "The Wein's displacement law is obtained from the Planck's law. The Wein's law states that the product between the wavelength ($\\lambda$), for a maximum emissivity, and the body's temperature $(T)$, is constant. In other words, if we know the body's temperature, we'll be able to determine the wavelength where the maximum emissivity occurs.\n",
    "\n",
    "Planck's law is given by:"
   ]
  },
  {
   "cell_type": "markdown",
   "metadata": {},
   "source": [
    "\\begin{equation}\n",
    "B(T,\\lambda) = \\frac{2hc^{2}}{\\lambda^{5}(exp(\\frac{hc}{kT})-1)},\n",
    "\\end{equation}"
   ]
  },
  {
   "cell_type": "markdown",
   "metadata": {},
   "source": [
    "where $B(T,\\lambda)$ is the emissivity for a given temperature $T$ and wavelenght $\\lambda$. The figure below shows a family of emissivity curves for five different values of $T$. "
   ]
  },
  {
   "cell_type": "markdown",
   "metadata": {},
   "source": [
    "Hereinafter, I will show how the Wein's law can be derived. For simplicity, let's define: "
   ]
  },
  {
   "cell_type": "markdown",
   "metadata": {},
   "source": [
    "$\\alpha\\equiv 2hc^{2}$, and \n",
    "\n",
    "$\\gamma\\equiv \\frac{hc}{kT}$."
   ]
  },
  {
   "cell_type": "markdown",
   "metadata": {},
   "source": []
  },
  {
   "cell_type": "markdown",
   "metadata": {},
   "source": []
  },
  {
   "cell_type": "markdown",
   "metadata": {},
   "source": [
    "Then, the equation for the emissivity can be written as:"
   ]
  },
  {
   "cell_type": "markdown",
   "metadata": {},
   "source": [
    "\\begin{equation}\n",
    "B(\\gamma, \\lambda) = \\alpha\\lambda^{-5}(exp(\\frac{\\gamma}{\\lambda})-1)^{-1}\n",
    "\\end{equation}"
   ]
  },
  {
   "cell_type": "markdown",
   "metadata": {},
   "source": [
    "But, what do we want to find? We are interested to find in which wavelength the maximum emissivity occurs. For this, we need to make $\\frac{\\partial B}{\\partial \\lambda}=0$. Thus,"
   ]
  },
  {
   "cell_type": "markdown",
   "metadata": {},
   "source": [
    "\\begin{eqnarray}\n",
    " \\frac{\\partial B}{\\partial \\lambda}=\\alpha\\lambda^{-6}(exp(\\frac{\\gamma}{\\lambda})-1)\n",
    "[-5+ \\\\\\\\ \\gamma\\lambda^{-1}(exp(\\frac{\\gamma}{\\lambda})-1)^{-1}exp(\\frac{\\gamma}{\\lambda})] = 0.\n",
    "\\end{eqnarray}"
   ]
  },
  {
   "cell_type": "markdown",
   "metadata": {
    "collapsed": true
   },
   "source": [
    "The solution of the equation above can be found by making the factor inside the brackets equal\n",
    "to zero."
   ]
  },
  {
   "cell_type": "markdown",
   "metadata": {},
   "source": [
    "\\begin{equation}\n",
    "-5+ \\gamma\\lambda^{-1}(exp(\\frac{\\gamma}{\\lambda})-1)^{-1}exp(\\frac{\\gamma}{\\lambda}) =0\n",
    "\\label{eq4}\n",
    "\\end{equation}"
   ]
  },
  {
   "cell_type": "markdown",
   "metadata": {},
   "source": [
    "After reordering all the factors, we get the equation below:"
   ]
  },
  {
   "cell_type": "markdown",
   "metadata": {},
   "source": [
    "\\begin{equation}\n",
    "\\lambda[\\exp(\\frac{\\gamma}{\\lambda})(\\frac{\\gamma}{\\lambda}-5)+5]=0\n",
    "\\end{equation}"
   ]
  },
  {
   "cell_type": "markdown",
   "metadata": {
    "collapsed": true
   },
   "source": [
    "Since $\\lambda$ is different from zero, the factor inside of brackets has to be zero. Which leads to:"
   ]
  },
  {
   "cell_type": "markdown",
   "metadata": {},
   "source": [
    "\\begin{equation}\n",
    "exp(\\frac{\\gamma}{\\lambda})(\\frac{\\gamma}{\\lambda}-5)+5=0\n",
    "\\end{equation}"
   ]
  },
  {
   "cell_type": "markdown",
   "metadata": {},
   "source": [
    "The equation above is a transcendental equation, which means it is not\n",
    "possible to solve by traditional means. For simplicity, we will define\n",
    "$g\\equiv \\frac{\\gamma}{\\lambda}$. Such that the last equation becomes:"
   ]
  },
  {
   "cell_type": "markdown",
   "metadata": {},
   "source": [
    "\\begin{equation}\n",
    "exp(g)(g-5)+5=0\n",
    "\\label{eq7}\n",
    "\\end{equation}"
   ]
  },
  {
   "cell_type": "markdown",
   "metadata": {},
   "source": [
    "So, how to approach solving it? One way might be expressing the exponential function by an approximation\n",
    "using Taylor's series. Another way is to use graphical method (For the moment, we'll\n",
    "demonstrate it just for the first way). The exponential funtion can be expanded as:"
   ]
  },
  {
   "cell_type": "markdown",
   "metadata": {},
   "source": [
    "\\begin{equation}\n",
    "exp(g)=1+g+\\frac{g^2}{2}\n",
    "\\label{eq8}\n",
    "\\end{equation}"
   ]
  },
  {
   "cell_type": "markdown",
   "metadata": {},
   "source": [
    "After substituting this approximation, we get:"
   ]
  },
  {
   "cell_type": "markdown",
   "metadata": {},
   "source": [
    "\\begin{equation}\n",
    "(1+g+\\frac{g^2}{2})(g-5)+5=0\n",
    "\\label{eq9}\n",
    "\\end{equation}\n"
   ]
  },
  {
   "cell_type": "markdown",
   "metadata": {},
   "source": [
    "Rearranging the terms we find that:"
   ]
  },
  {
   "cell_type": "markdown",
   "metadata": {},
   "source": [
    "\\begin{equation}\n",
    "g(-4-\\frac{3g}{2}+\\frac{g^2}{2})=0\n",
    "\\label{eq10}\n",
    "\\end{equation}"
   ]
  },
  {
   "cell_type": "markdown",
   "metadata": {},
   "source": [
    "By definition $g$ is different of zero, so the expression inside of brackets\n",
    "has to be equal to zero. This equation is a second degree equation, then we may conclude\n",
    "that $g$ is a constant. Therefore,"
   ]
  },
  {
   "cell_type": "markdown",
   "metadata": {},
   "source": [
    "\\begin{equation}\n",
    "g=\\frac{\\gamma}{\\lambda}=\\frac{hc}{kT\\lambda}=constant \\Rightarrow {\\lambda}{T}=constant\n",
    "\\end{equation}"
   ]
  },
  {
   "cell_type": "markdown",
   "metadata": {},
   "source": [
    "**Quod erat demonstrandum**."
   ]
  },
  {
   "cell_type": "code",
   "execution_count": null,
   "metadata": {
    "collapsed": true
   },
   "outputs": [],
   "source": []
  }
 ],
 "metadata": {
  "kernelspec": {
   "display_name": "Python 2",
   "language": "python",
   "name": "python2"
  },
  "language_info": {
   "codemirror_mode": {
    "name": "ipython",
    "version": 2
   },
   "file_extension": ".py",
   "mimetype": "text/x-python",
   "name": "python",
   "nbconvert_exporter": "python",
   "pygments_lexer": "ipython2",
   "version": "2.7.10"
  }
 },
 "nbformat": 4,
 "nbformat_minor": 0
}
